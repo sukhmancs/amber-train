{
  "nbformat": 4,
  "nbformat_minor": 0,
  "metadata": {
    "colab": {
      "provenance": [],
      "authorship_tag": "ABX9TyMFcxpIwaDjQQeKQJe80+a4",
      "include_colab_link": true
    },
    "kernelspec": {
      "name": "python3",
      "display_name": "Python 3"
    },
    "language_info": {
      "name": "python"
    }
  },
  "cells": [
    {
      "cell_type": "markdown",
      "metadata": {
        "id": "view-in-github",
        "colab_type": "text"
      },
      "source": [
        "<a href=\"https://colab.research.google.com/github/sukhmancs/amber-train/blob/main/Amber_7B_Train_Mine.ipynb\" target=\"_parent\"><img src=\"https://colab.research.google.com/assets/colab-badge.svg\" alt=\"Open In Colab\"/></a>"
      ]
    },
    {
      "cell_type": "markdown",
      "source": [
        "# Implementation of amber-train in Jupyter Notebook/Google Colab:\n",
        "This notebook uses script to run the training. Because FSDP strategy will only work if I am calling the main or training method in a script."
      ],
      "metadata": {
        "id": "aq3QRARGh9gR"
      }
    },
    {
      "cell_type": "code",
      "source": [
        "!git clone https://github.com/sukhmancs/amber-train.git; git clone https://huggingface.co/datasets/qbwmwsap/amber-data-arxiv-chunked-360\n",
        "!cd amber-train; pip install -r requirements.txt; wandb login; chmod +x run.sh; ls -all; ./run.sh"
      ],
      "metadata": {
        "id": "708nOE36W3e3"
      },
      "execution_count": null,
      "outputs": []
    },
    {
      "cell_type": "markdown",
      "source": [
        "## Upload the model and tokenizer to huggingface models\n",
        "**Using Git**"
      ],
      "metadata": {
        "id": "_NtUA4ZfcC29"
      }
    },
    {
      "cell_type": "code",
      "source": [
        "!git clone https://huggingface.co/qbwmwsap/amber-model-mine; cd amber-model-mine; git lfs install; huggingface-cli lfs-enable-largefiles .\n",
        "!git config --global user.email \"sukhmanghum66778899@gmail.com\"; git config --global user.name \"racoot\"\n",
        "!pip install huggingface_hub; huggingface-cli login\n",
        "!cd amber-train/workdir_7b; cp -r ckpt_10/* ./../../amber-model-mine/\n",
        "!cd testing_model_upload; git add .; git commit -m \"First model version\"; git push"
      ],
      "metadata": {
        "id": "n8FksyoD8nwI"
      },
      "execution_count": null,
      "outputs": []
    },
    {
      "cell_type": "markdown",
      "source": [
        "## Inference"
      ],
      "metadata": {
        "id": "PR6YQv08Lw8H"
      }
    },
    {
      "cell_type": "code",
      "source": [
        "# Load model directly\n",
        "from transformers import AutoTokenizer, AutoModelForCausalLM\n",
        "\n",
        "tokenizer = AutoTokenizer.from_pretrained(\"qbwmwsap/amber-model-mine\")\n",
        "model = AutoModelForCausalLM.from_pretrained(\"qbwmwsap/amber-model-mine\")\n",
        "input_text = \"translate English to German: How old are you?\"\n",
        "input_ids = tokenizer(input_text, return_tensors=\"pt\").input_ids\n",
        "\n",
        "outputs = model.generate(input_ids)\n",
        "print(tokenizer.decode(outputs[0]))"
      ],
      "metadata": {
        "colab": {
          "base_uri": "https://localhost:8080/",
          "height": 113,
          "referenced_widgets": [
            "3e51c61ce438445eb3d1fb201572ea60",
            "5b3dd8b423e44492b01fe7e142348b36",
            "27472c7003ee4bb4a2c4070b46abc238",
            "b26500416a214a4a9ba4f42bdde75cff",
            "a009ad6f75ee45139bf30ac648480799",
            "5ba3d281144947a7a5f317c31603fb04",
            "da9398a7504946a48413f640649e075e",
            "57cf0f42ac0f47a38fc0a7dc5ea5191d",
            "489b1926f29842ac81dd850a7da75478",
            "4b0f1ba7c0b44ae498f53926506871af",
            "82fec8c282b5404298d9cda1138c9bfc",
            "1a63e85800de4a938a0413a34aa68fee",
            "d5e6028055dd4c3488631e2328b93272",
            "fe363df2c8154f66b062fae56b6ac09a",
            "de9060bb8a27460582efed8d8c0b2e94",
            "4d3dee684ac5461bad8c46a4b4482a25",
            "b3972f5b6251473195aac5695805659b",
            "9155def5fdf743e986101e91c650ce79",
            "3f71c800e9144c009710946dc91ef9d9",
            "02057604df67473c9abe280403acbd0b",
            "6356c122a36046f49be0fb3db63d4d90",
            "a8d3b1496bc64edda7c27339ddaf8d34",
            "36494f8a44974095bde9b9c304c94f3f",
            "3653d9a621ab4ac3876f840a23ca9645",
            "d3a4b15a580d47cba7b9d53a4cb944e7",
            "753e63a8fbe749599545ce8056c52560",
            "d4c8f237b77a4233aaba29a619537c9e",
            "5fcdd8ad4cdd4342b6ed696f7793943a",
            "c4987f6376d24e5f99ed67f2d0001f32",
            "c2ded45f0fb141b38a6aba60efc2b9b8",
            "f2578302f0664e6ba7e0347db3531f6e",
            "e613f59e5d0a4e71becac48599518977",
            "41049364d8ac4f4aa2e07be171685fd3"
          ]
        },
        "id": "Q9SPCWBILgjI",
        "outputId": "e4b94021-f06c-41f2-d431-6dd06c5e5eb3"
      },
      "execution_count": null,
      "outputs": [
        {
          "output_type": "display_data",
          "data": {
            "text/plain": [
              "config.json:   0%|          | 0.00/634 [00:00<?, ?B/s]"
            ],
            "application/vnd.jupyter.widget-view+json": {
              "version_major": 2,
              "version_minor": 0,
              "model_id": "3e51c61ce438445eb3d1fb201572ea60"
            }
          },
          "metadata": {}
        },
        {
          "output_type": "display_data",
          "data": {
            "text/plain": [
              "pytorch_model.bin:   0%|          | 0.00/1.86G [00:00<?, ?B/s]"
            ],
            "application/vnd.jupyter.widget-view+json": {
              "version_major": 2,
              "version_minor": 0,
              "model_id": "1a63e85800de4a938a0413a34aa68fee"
            }
          },
          "metadata": {}
        },
        {
          "output_type": "display_data",
          "data": {
            "text/plain": [
              "generation_config.json:   0%|          | 0.00/111 [00:00<?, ?B/s]"
            ],
            "application/vnd.jupyter.widget-view+json": {
              "version_major": 2,
              "version_minor": 0,
              "model_id": "36494f8a44974095bde9b9c304c94f3f"
            }
          },
          "metadata": {}
        }
      ]
    }
  ]
}